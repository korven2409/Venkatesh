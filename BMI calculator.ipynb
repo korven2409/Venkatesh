{
 "cells": [
  {
   "cell_type": "code",
   "execution_count": 12,
   "metadata": {},
   "outputs": [
    {
     "name": "stdout",
     "output_type": "stream",
     "text": [
      "enter your height in m: 1.7\n",
      "enter your weight in kg: 75\n",
      "Your BMI is 26, you are slightly overweight.\n"
     ]
    }
   ],
   "source": [
    "height = float(input(\"enter your height in m: \"))\n",
    "weight = float(input(\"enter your weight in kg: \"))\n",
    "BMI=weight/height**2\n",
    "BMI=round(BMI)\n",
    "if BMI<=18.5:\n",
    "  print(f\"Your BMI is {BMI}, you are underweight.\")\n",
    "elif BMI<25:\n",
    "  print(f\"Your BMI is {BMI}, you have a normal weight.\")\n",
    "elif BMI<30:\n",
    "  print(f\"Your BMI is {BMI}, you are slightly overweight.\")\n",
    "elif BMI<35:\n",
    "  print(f\"Your BMI is {BMI}, you are obese.\")\n",
    "else:\n",
    "  print(f\"Your BMI is {BMI}, you are clinically obese.\")"
   ]
  }
 ],
 "metadata": {
  "kernelspec": {
   "display_name": "Python 3",
   "language": "python",
   "name": "python3"
  },
  "language_info": {
   "codemirror_mode": {
    "name": "ipython",
    "version": 3
   },
   "file_extension": ".py",
   "mimetype": "text/x-python",
   "name": "python",
   "nbconvert_exporter": "python",
   "pygments_lexer": "ipython3",
   "version": "3.8.5"
  }
 },
 "nbformat": 4,
 "nbformat_minor": 4
}
