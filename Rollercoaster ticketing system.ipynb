{
 "cells": [
  {
   "cell_type": "code",
   "execution_count": 11,
   "metadata": {},
   "outputs": [
    {
     "name": "stdout",
     "output_type": "stream",
     "text": [
      "Welcome to the rollercoaster!\n",
      "What is your height in cm? 120\n",
      "you can ride the rollercoaster!\n",
      "What is your age? 11\n",
      "you ticket price is $5\n"
     ]
    }
   ],
   "source": [
    "print(\"Welcome to the rollercoaster!\")\n",
    "height = int(input(\"What is your height in cm? \"))\n",
    "if height>=120:\n",
    "  print(\"you can ride the rollercoaster!\")\n",
    "  age=int(input(\"What is your age? \"))\n",
    "  if age<12:\n",
    "    print(\"you ticket price is $5\")\n",
    "  elif age<18:\n",
    "    print(\"your ticket price is $7\")\n",
    "  else:\n",
    "    print(\"your ticket price is $12\")\n",
    "else:\n",
    "  print(\"can't ride\")"
   ]
  }
 ],
 "metadata": {
  "kernelspec": {
   "display_name": "Python 3",
   "language": "python",
   "name": "python3"
  },
  "language_info": {
   "codemirror_mode": {
    "name": "ipython",
    "version": 3
   },
   "file_extension": ".py",
   "mimetype": "text/x-python",
   "name": "python",
   "nbconvert_exporter": "python",
   "pygments_lexer": "ipython3",
   "version": "3.8.5"
  }
 },
 "nbformat": 4,
 "nbformat_minor": 4
}
