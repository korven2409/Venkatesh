{
 "cells": [
  {
   "cell_type": "code",
   "execution_count": 7,
   "id": "c9346c09",
   "metadata": {},
   "outputs": [
    {
     "name": "stdout",
     "output_type": "stream",
     "text": [
      "\n",
      "                         ___________\n",
      "                         \\         /\n",
      "                          )_______(\n",
      "                          |\"\"\"\"\"\"\"|_.-._,.---------.,_.-._\n",
      "                          |       | | |               | | ''-.\n",
      "                          |       |_| |_             _| |_..-'\n",
      "                          |_______| '-' `'---------'` '-'\n",
      "                          )\"\"\"\"\"\"\"(\n",
      "                         /_________\\\n",
      "                       .-------------.\n",
      "                      /_______________\\\n",
      "\n",
      "What is your name?: venky\n",
      "What is your bid?: $123\n",
      "Are there any more bidders? Type 'yes' or 'no'.\n",
      "sd\n",
      "Are there any more bidders? Type 'yes' or 'no'.\n",
      "yes\n",
      "What is your name?: ram\n",
      "What is your bid?: $150\n",
      "Are there any more bidders? Type 'yes' or 'no'.\n",
      "yes\n",
      "What is your name?: manith\n",
      "What is your bid?: $81\n",
      "Are there any more bidders? Type 'yes' or 'no'.\n",
      "rs\n",
      "Are there any more bidders? Type 'yes' or 'no'.\n",
      "no\n",
      "The winner is ram with a bid of $150\n"
     ]
    }
   ],
   "source": [
    "import os\n",
    "logo = '''\n",
    "                         ___________\n",
    "                         \\         /\n",
    "                          )_______(\n",
    "                          |\"\"\"\"\"\"\"|_.-._,.---------.,_.-._\n",
    "                          |       | | |               | | ''-.\n",
    "                          |       |_| |_             _| |_..-'\n",
    "                          |_______| '-' `'---------'` '-'\n",
    "                          )\"\"\"\"\"\"\"(\n",
    "                         /_________\\\\\n",
    "                       .-------------.\n",
    "                      /_______________\\\\\n",
    "'''\n",
    "print(logo)\n",
    "silent_bidding={}\n",
    "\n",
    "name=input(\"What is your name?: \")\n",
    "bid=int(input(\"What is your bid?: $\"))\n",
    "# bids.append(bid)\n",
    "silent_bidding[name]=bid\n",
    "max_bid=silent_bidding[name]\n",
    "max_bidder=name\n",
    "# more_bidders=input(\"Are there any more bidders? Type 'yes' or 'no'.\\n\")\n",
    "while True:\n",
    "    more_bidders=input(\"Are there any more bidders? Type 'yes' or 'no'.\\n\")\n",
    "    if more_bidders=='no':\n",
    "        break\n",
    "    elif more_bidders!='yes' and more_bidders!='no':\n",
    "        continue\n",
    "    elif more_bidders=='yes':\n",
    "        name=input(\"What is your name?: \")\n",
    "        bid=int(input(\"What is your bid?: $\"))\n",
    "        silent_bidding[name]=bid\n",
    "# print(silent_bidding)\n",
    "for bidder in silent_bidding:\n",
    "    if silent_bidding[bidder]>max_bid:\n",
    "        max_bid=silent_bidding[bidder]\n",
    "        max_bidder=bidder\n",
    "print(f\"The winner is {max_bidder} with a bid of ${max_bid}\")\n"
   ]
  },
  {
   "cell_type": "code",
   "execution_count": null,
   "id": "eb179896",
   "metadata": {},
   "outputs": [],
   "source": []
  }
 ],
 "metadata": {
  "kernelspec": {
   "display_name": "Python 3",
   "language": "python",
   "name": "python3"
  },
  "language_info": {
   "codemirror_mode": {
    "name": "ipython",
    "version": 3
   },
   "file_extension": ".py",
   "mimetype": "text/x-python",
   "name": "python",
   "nbconvert_exporter": "python",
   "pygments_lexer": "ipython3",
   "version": "3.8.10"
  }
 },
 "nbformat": 4,
 "nbformat_minor": 5
}
