{
 "cells": [
  {
   "cell_type": "code",
   "execution_count": 15,
   "metadata": {},
   "outputs": [
    {
     "name": "stdout",
     "output_type": "stream",
     "text": [
      "Welcome to the Love Calculator!\n",
      "What is your name? \n",
      "Kanye West\n",
      "What is their name? \n",
      "Kim Kardashian\n",
      "Your score is 42, you are alright together.\n"
     ]
    }
   ],
   "source": [
    "print(\"Welcome to the Love Calculator!\")\n",
    "name1 = input(\"What is your name? \\n\")\n",
    "name2 = input(\"What is their name? \\n\")\n",
    "c=0\n",
    "d=0\n",
    "love_score_name=name1+name2\n",
    "c+=love_score_name.lower().count(\"t\")\n",
    "c+=love_score_name.lower().count(\"r\")\n",
    "c+=love_score_name.lower().count(\"u\")\n",
    "c+=love_score_name.lower().count(\"e\")\n",
    "\n",
    "d+=love_score_name.lower().count(\"l\")\n",
    "d+=love_score_name.lower().count(\"o\")\n",
    "d+=love_score_name.lower().count(\"v\")\n",
    "d+=love_score_name.lower().count(\"e\")\n",
    "total=int(str(c)+str(d))\n",
    "if total<=10 or total>=90:\n",
    "  print(f\"Your score is {total}, you go together like coke and mentos.\")\n",
    "elif total>=40 and total<=50:\n",
    "  print(f\"Your score is {total}, you are alright together.\")\n",
    "else:\n",
    "  print(f\"Your score is {total}.\")"
   ]
  }
 ],
 "metadata": {
  "kernelspec": {
   "display_name": "Python 3",
   "language": "python",
   "name": "python3"
  },
  "language_info": {
   "codemirror_mode": {
    "name": "ipython",
    "version": 3
   },
   "file_extension": ".py",
   "mimetype": "text/x-python",
   "name": "python",
   "nbconvert_exporter": "python",
   "pygments_lexer": "ipython3",
   "version": "3.8.5"
  }
 },
 "nbformat": 4,
 "nbformat_minor": 4
}
