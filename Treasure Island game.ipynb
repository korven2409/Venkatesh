{
 "cells": [
  {
   "cell_type": "code",
   "execution_count": 16,
   "metadata": {},
   "outputs": [
    {
     "name": "stdout",
     "output_type": "stream",
     "text": [
      "\n",
      "*******************************************************************************\n",
      "          |                   |                  |                     |\n",
      " _________|________________.=\"\"_;=.______________|_____________________|_______\n",
      "|                   |  ,-\"_,=\"\"     `\"=.|                  |\n",
      "|___________________|__\"=._o`\"-._        `\"=.______________|___________________\n",
      "          |                `\"=._o`\"=._      _`\"=._                     |\n",
      " _________|_____________________:=._o \"=._.\"_.-=\"'\"=.__________________|_______\n",
      "|                   |    __.--\" , ; `\"=._o.\" ,-\"\"\"-._ \".   |\n",
      "|___________________|_._\"  ,. .` ` `` ,  `\"-._\"-._   \". '__|___________________\n",
      "          |           |o`\"=._` , \"` `; .\". ,  \"-._\"-._; ;              |\n",
      " _________|___________| ;`-.o`\"=._; .\" ` '`.\"\\` . \"-._ /_______________|_______\n",
      "|                   | |o;    `\"-.o`\"=._``  '` \" ,__.--o;   |\n",
      "|___________________|_| ;     (#) `-.o `\"=.`_.--\"_o.-; ;___|___________________\n",
      "____/______/______/___|o;._    \"      `\".o|o_.--\"    ;o;____/______/______/____\n",
      "/______/______/______/_\"=._o--._        ; | ;        ; ;/______/______/______/_\n",
      "____/______/______/______/__\"=._o--._   ;o|o;     _._;o;____/______/______/____\n",
      "/______/______/______/______/____\"=._o._; | ;_.--\"o.--\"_/______/______/______/_\n",
      "____/______/______/______/______/_____\"=.o|o_.--\"\"___/______/______/______/____\n",
      "/______/______/______/______/______/______/______/______/______/______/_____ /\n",
      "*******************************************************************************\n",
      "\n",
      "Welcome to Treasure Island.\n",
      "Your mission is to find the treasure.\n",
      "You opened a mystery door which led you to an alternate dimension. You have only two directions to go Left or Right and straight ahead there is no way to go. Where do you want to go? Type 'Left' or 'Right'\n",
      "Left\n",
      "You have come to a seashore crossroad where boats arrive to take you to the desired destination but for your information there is an 'island' in the middle of the sea. You can wait for the boat to arrive or you can swim across using your mighty shoulders and legs and reach the island. What do you choose to do? 'Wait' or 'Swim' \n",
      "Wait\n",
      "A boat which arrived after some time you have waited has taken you safely to the island. You have 3 doors infront of you Yellow,Blue,Red, now choose:\n",
      "Yellow\n",
      "You are a tough cookie! You won the game\n"
     ]
    }
   ],
   "source": [
    "print('''\n",
    "*******************************************************************************\n",
    "          |                   |                  |                     |\n",
    " _________|________________.=\"\"_;=.______________|_____________________|_______\n",
    "|                   |  ,-\"_,=\"\"     `\"=.|                  |\n",
    "|___________________|__\"=._o`\"-._        `\"=.______________|___________________\n",
    "          |                `\"=._o`\"=._      _`\"=._                     |\n",
    " _________|_____________________:=._o \"=._.\"_.-=\"'\"=.__________________|_______\n",
    "|                   |    __.--\" , ; `\"=._o.\" ,-\"\"\"-._ \".   |\n",
    "|___________________|_._\"  ,. .` ` `` ,  `\"-._\"-._   \". '__|___________________\n",
    "          |           |o`\"=._` , \"` `; .\". ,  \"-._\"-._; ;              |\n",
    " _________|___________| ;`-.o`\"=._; .\" ` '`.\"\\` . \"-._ /_______________|_______\n",
    "|                   | |o;    `\"-.o`\"=._``  '` \" ,__.--o;   |\n",
    "|___________________|_| ;     (#) `-.o `\"=.`_.--\"_o.-; ;___|___________________\n",
    "____/______/______/___|o;._    \"      `\".o|o_.--\"    ;o;____/______/______/____\n",
    "/______/______/______/_\"=._o--._        ; | ;        ; ;/______/______/______/_\n",
    "____/______/______/______/__\"=._o--._   ;o|o;     _._;o;____/______/______/____\n",
    "/______/______/______/______/____\"=._o._; | ;_.--\"o.--\"_/______/______/______/_\n",
    "____/______/______/______/______/_____\"=.o|o_.--\"\"___/______/______/______/____\n",
    "/______/______/______/______/______/______/______/______/______/______/_____ /\n",
    "*******************************************************************************\n",
    "''')\n",
    "print(\"Welcome to Treasure Island.\")\n",
    "print(\"Your mission is to find the treasure.\") \n",
    "print(\"You opened a mystery door which led you to an alternate dimension. You have only two directions to go Left or Right and straight ahead there is no way to go. Where do you want to go? Type 'Left' or 'Right'\")\n",
    "direction=input()\n",
    "if direction.lower()==\"right\":\n",
    "  print(\"You choose the wrong door , better luck next life. Game Over\")\n",
    "else:\n",
    "  print(\"You have come to a seashore crossroad where boats arrive to take you to the desired destination but for your information there is an 'island' in the middle of the sea. You can wait for the boat to arrive or you can swim across using your mighty shoulders and legs and reach the island. What do you choose to do? 'Wait' or 'Swim' \")\n",
    "  choice=input()\n",
    "  if choice.lower()==\"swim\":\n",
    "    print(\"You fell into the trap. You were eaten by sea monsters which are mightier than your shoulders!. Game Over.\")\n",
    "  else:\n",
    "    print(\"A boat which arrived after some time you have waited has taken you safely to the island. You have 3 doors infront of you Yellow,Blue,Red, now choose:\")\n",
    "    door=input()\n",
    "    if door.lower()==\"yellow\":\n",
    "      print(\"You are a tough cookie! You won the game\")\n",
    "    elif door.lower()==\"red\":\n",
    "      print(\"You were smart but you should have doubted by its color(RED) as danger. Anyways you lose.\")\n",
    "    else:\n",
    "      print(\"Blue doesn't always mean safe. You lose.\")"
   ]
  }
 ],
 "metadata": {
  "kernelspec": {
   "display_name": "Python 3",
   "language": "python",
   "name": "python3"
  },
  "language_info": {
   "codemirror_mode": {
    "name": "ipython",
    "version": 3
   },
   "file_extension": ".py",
   "mimetype": "text/x-python",
   "name": "python",
   "nbconvert_exporter": "python",
   "pygments_lexer": "ipython3",
   "version": "3.8.5"
  }
 },
 "nbformat": 4,
 "nbformat_minor": 4
}
